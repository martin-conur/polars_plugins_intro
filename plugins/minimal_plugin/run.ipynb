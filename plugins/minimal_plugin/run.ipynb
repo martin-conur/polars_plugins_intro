{
 "cells": [
  {
   "cell_type": "code",
   "execution_count": 3,
   "metadata": {},
   "outputs": [
    {
     "name": "stdout",
     "output_type": "stream",
     "text": [
      "shape: (3, 6)\n",
      "┌──────┬──────┬────────────┬────────┬────────┬────────────┐\n",
      "│ a    ┆ b    ┆ c          ┆ a_noop ┆ b_noop ┆ c_noop     │\n",
      "│ ---  ┆ ---  ┆ ---        ┆ ---    ┆ ---    ┆ ---        │\n",
      "│ i64  ┆ f64  ┆ str        ┆ i64    ┆ f64    ┆ str        │\n",
      "╞══════╪══════╪════════════╪════════╪════════╪════════════╡\n",
      "│ 1    ┆ 4.1  ┆ hello      ┆ 1      ┆ 4.1    ┆ hello      │\n",
      "│ -1   ┆ 5.2  ┆ everybody! ┆ -1     ┆ 5.2    ┆ everybody! │\n",
      "│ null ┆ -6.3 ┆ !          ┆ null   ┆ -6.3   ┆ !          │\n",
      "└──────┴──────┴────────────┴────────┴────────┴────────────┘\n"
     ]
    }
   ],
   "source": [
    "import polars as pl\n",
    "import minimal_plugin  # noqa: F401\n",
    "\n",
    "df = pl.DataFrame({\n",
    "    'a': [1, -1, None],\n",
    "    'b': [4.1, 5.2, -6.3],\n",
    "    'c': ['hello', 'everybody!', '!']\n",
    "})\n",
    "print(df.with_columns(pl.all().mp.noop().name.suffix('_noop')))"
   ]
  },
  {
   "cell_type": "code",
   "execution_count": 8,
   "metadata": {},
   "outputs": [
    {
     "name": "stdout",
     "output_type": "stream",
     "text": [
      "shape: (3, 4)\n",
      "┌──────┬──────┬────────────┬───────┐\n",
      "│ a    ┆ b    ┆ c          ┆ a_abs │\n",
      "│ ---  ┆ ---  ┆ ---        ┆ ---   │\n",
      "│ i64  ┆ f64  ┆ str        ┆ i64   │\n",
      "╞══════╪══════╪════════════╪═══════╡\n",
      "│ 1    ┆ 4.1  ┆ hello      ┆ 1     │\n",
      "│ -1   ┆ 5.2  ┆ everybody! ┆ 1     │\n",
      "│ null ┆ -6.3 ┆ !          ┆ null  │\n",
      "└──────┴──────┴────────────┴───────┘\n"
     ]
    }
   ],
   "source": [
    "print(df.with_columns(pl.col('a').mp.abs_i64().name.suffix('_abs')))"
   ]
  },
  {
   "cell_type": "code",
   "execution_count": null,
   "metadata": {},
   "outputs": [],
   "source": []
  }
 ],
 "metadata": {
  "kernelspec": {
   "display_name": "mapolygon",
   "language": "python",
   "name": "python3"
  },
  "language_info": {
   "codemirror_mode": {
    "name": "ipython",
    "version": 3
   },
   "file_extension": ".py",
   "mimetype": "text/x-python",
   "name": "python",
   "nbconvert_exporter": "python",
   "pygments_lexer": "ipython3",
   "version": "3.11.7"
  }
 },
 "nbformat": 4,
 "nbformat_minor": 2
}
