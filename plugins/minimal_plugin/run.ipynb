{
 "cells": [
  {
   "cell_type": "code",
   "execution_count": 1,
   "metadata": {},
   "outputs": [
    {
     "name": "stdout",
     "output_type": "stream",
     "text": [
      "shape: (3, 6)\n",
      "┌──────┬──────┬────────────┬────────┬────────┬────────────┐\n",
      "│ a    ┆ b    ┆ c          ┆ a_noop ┆ b_noop ┆ c_noop     │\n",
      "│ ---  ┆ ---  ┆ ---        ┆ ---    ┆ ---    ┆ ---        │\n",
      "│ i64  ┆ f64  ┆ str        ┆ i64    ┆ f64    ┆ str        │\n",
      "╞══════╪══════╪════════════╪════════╪════════╪════════════╡\n",
      "│ 1    ┆ 4.1  ┆ hello      ┆ 1      ┆ 4.1    ┆ hello      │\n",
      "│ -1   ┆ 5.2  ┆ everybody! ┆ -1     ┆ 5.2    ┆ everybody! │\n",
      "│ null ┆ -6.3 ┆ !          ┆ null   ┆ -6.3   ┆ !          │\n",
      "└──────┴──────┴────────────┴────────┴────────┴────────────┘\n"
     ]
    }
   ],
   "source": [
    "import polars as pl\n",
    "import minimal_plugin  # noqa: F401\n",
    "\n",
    "df = pl.DataFrame({\n",
    "    'a': [1, -1, None],\n",
    "    'b': [4.1, 5.2, -6.3],\n",
    "    'c': ['hello', 'everybody!', '!']\n",
    "})\n",
    "print(df.with_columns(pl.all().mp.noop().name.suffix('_noop')))"
   ]
  },
  {
   "cell_type": "code",
   "execution_count": 4,
   "metadata": {},
   "outputs": [
    {
     "name": "stdout",
     "output_type": "stream",
     "text": [
      "shape: (3, 3)\n",
      "┌─────┬──────┬──────────┐\n",
      "│ a   ┆ b    ┆ a_plus_b │\n",
      "│ --- ┆ ---  ┆ ---      │\n",
      "│ i64 ┆ i64  ┆ i64      │\n",
      "╞═════╪══════╪══════════╡\n",
      "│ 1   ┆ 3    ┆ 4        │\n",
      "│ 5   ┆ null ┆ null     │\n",
      "│ 2   ┆ -1   ┆ 1        │\n",
      "└─────┴──────┴──────────┘\n"
     ]
    }
   ],
   "source": [
    "df = pl.DataFrame({'a': [1, 5, 2], 'b': [3, None, -1]})\n",
    "print(df.with_columns(a_plus_b=pl.col('a').mp.sum_i64(pl.col('b'))))"
   ]
  },
  {
   "cell_type": "code",
   "execution_count": 5,
   "metadata": {},
   "outputs": [
    {
     "name": "stdout",
     "output_type": "stream",
     "text": [
      "shape: (3, 3)\n",
      "┌─────┬──────┬──────────┐\n",
      "│ a   ┆ b    ┆ a_plus_b │\n",
      "│ --- ┆ ---  ┆ ---      │\n",
      "│ i64 ┆ i64  ┆ i64      │\n",
      "╞═════╪══════╪══════════╡\n",
      "│ 1   ┆ 3    ┆ 4        │\n",
      "│ 5   ┆ null ┆ null     │\n",
      "│ 2   ┆ -1   ┆ 1        │\n",
      "└─────┴──────┴──────────┘\n"
     ]
    }
   ],
   "source": [
    "print(df.with_columns(a_plus_b=pl.col('a').mp.sum_i64(pl.col('b'))))"
   ]
  }
 ],
 "metadata": {
  "kernelspec": {
   "display_name": "mapolygon",
   "language": "python",
   "name": "python3"
  },
  "language_info": {
   "codemirror_mode": {
    "name": "ipython",
    "version": 3
   },
   "file_extension": ".py",
   "mimetype": "text/x-python",
   "name": "python",
   "nbconvert_exporter": "python",
   "pygments_lexer": "ipython3",
   "version": "3.11.3"
  }
 },
 "nbformat": 4,
 "nbformat_minor": 2
}
