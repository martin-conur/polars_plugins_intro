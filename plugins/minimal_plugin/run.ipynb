{
 "cells": [
  {
   "cell_type": "code",
   "execution_count": 2,
   "metadata": {},
   "outputs": [
    {
     "name": "stdout",
     "output_type": "stream",
     "text": [
      "shape: (3, 6)\n",
      "┌──────┬──────┬────────────┬────────┬────────┬────────────┐\n",
      "│ a    ┆ b    ┆ c          ┆ a_noop ┆ b_noop ┆ c_noop     │\n",
      "│ ---  ┆ ---  ┆ ---        ┆ ---    ┆ ---    ┆ ---        │\n",
      "│ i64  ┆ f64  ┆ str        ┆ i64    ┆ f64    ┆ str        │\n",
      "╞══════╪══════╪════════════╪════════╪════════╪════════════╡\n",
      "│ 1    ┆ 4.1  ┆ hello      ┆ 1      ┆ 4.1    ┆ hello      │\n",
      "│ -1   ┆ 5.2  ┆ everybody! ┆ -1     ┆ 5.2    ┆ everybody! │\n",
      "│ null ┆ -6.3 ┆ !          ┆ null   ┆ -6.3   ┆ !          │\n",
      "└──────┴──────┴────────────┴────────┴────────┴────────────┘\n"
     ]
    }
   ],
   "source": [
    "import polars as pl\n",
    "import minimal_plugin as mp # noqa: F401\n",
    "\n",
    "df = pl.DataFrame({\n",
    "    'a': [1, -1, None],\n",
    "    'b': [4.1, 5.2, -6.3],\n",
    "    'c': ['hello', 'everybody!', '!']\n",
    "})\n",
    "print(df.with_columns(mp.noop(pl.all()).name.suffix('_noop')))"
   ]
  },
  {
   "cell_type": "code",
   "execution_count": 3,
   "metadata": {},
   "outputs": [
    {
     "name": "stdout",
     "output_type": "stream",
     "text": [
      "shape: (3, 3)\n",
      "┌─────┬──────┬───────┐\n",
      "│ a   ┆ b    ┆ a_abs │\n",
      "│ --- ┆ ---  ┆ ---   │\n",
      "│ i64 ┆ i64  ┆ i64   │\n",
      "╞═════╪══════╪═══════╡\n",
      "│ 1   ┆ 3    ┆ 1     │\n",
      "│ 5   ┆ null ┆ 5     │\n",
      "│ 2   ┆ -1   ┆ 2     │\n",
      "└─────┴──────┴───────┘\n"
     ]
    }
   ],
   "source": [
    "df = pl.DataFrame({'a': [1, 5, 2], 'b': [3, None, -1]})\n",
    "print(df.with_columns(mp.abs_i64('a').name.suffix('_abs')))"
   ]
  },
  {
   "cell_type": "code",
   "execution_count": 4,
   "metadata": {},
   "outputs": [
    {
     "name": "stdout",
     "output_type": "stream",
     "text": [
      "shape: (3, 3)\n",
      "┌─────┬──────┬──────────┐\n",
      "│ a   ┆ b    ┆ a_plus_b │\n",
      "│ --- ┆ ---  ┆ ---      │\n",
      "│ i64 ┆ i64  ┆ i64      │\n",
      "╞═════╪══════╪══════════╡\n",
      "│ 1   ┆ 3    ┆ 4        │\n",
      "│ 5   ┆ null ┆ null     │\n",
      "│ 2   ┆ -1   ┆ 1        │\n",
      "└─────┴──────┴──────────┘\n"
     ]
    }
   ],
   "source": [
    "print(df.with_columns(a_plus_b=mp.sum_i64('a', 'b')))"
   ]
  },
  {
   "cell_type": "code",
   "execution_count": 5,
   "metadata": {},
   "outputs": [
    {
     "name": "stdout",
     "output_type": "stream",
     "text": [
      "shape: (3, 3)\n",
      "┌─────┬──────┬───────────┐\n",
      "│ a   ┆ b    ┆ a_cum_sum │\n",
      "│ --- ┆ ---  ┆ ---       │\n",
      "│ i64 ┆ i64  ┆ i64       │\n",
      "╞═════╪══════╪═══════════╡\n",
      "│ 1   ┆ 3    ┆ 1         │\n",
      "│ 5   ┆ null ┆ 6         │\n",
      "│ 2   ┆ -1   ┆ 8         │\n",
      "└─────┴──────┴───────────┘\n"
     ]
    }
   ],
   "source": [
    "print(df.with_columns(a_cum_sum=mp.cum_sum('a')))"
   ]
  },
  {
   "cell_type": "code",
   "execution_count": 6,
   "metadata": {},
   "outputs": [
    {
     "name": "stdout",
     "output_type": "stream",
     "text": [
      "shape: (4, 2)\n",
      "┌───────┬─────────────┐\n",
      "│ a     ┆ a_pig_latin │\n",
      "│ ---   ┆ ---         │\n",
      "│ str   ┆ str         │\n",
      "╞═══════╪═════════════╡\n",
      "│ I     ┆ Iay         │\n",
      "│ love  ┆ ovelay      │\n",
      "│ pig   ┆ igpay       │\n",
      "│ latin ┆ atinlay     │\n",
      "└───────┴─────────────┘\n"
     ]
    }
   ],
   "source": [
    "df = pl.DataFrame({'a': [\"I\", \"love\", \"pig\", \"latin\"]})\n",
    "print(df.with_columns(a_pig_latin=mp.pig_latinnify('a')))"
   ]
  },
  {
   "cell_type": "code",
   "execution_count": 7,
   "metadata": {},
   "outputs": [
    {
     "name": "stdout",
     "output_type": "stream",
     "text": [
      "shape: (9, 2)\n",
      "┌───────────────┬────────────┐\n",
      "│ word          ┆ b          │\n",
      "│ ---           ┆ ---        │\n",
      "│ str           ┆ str        │\n",
      "╞═══════════════╪════════════╡\n",
      "│ temerosamente ┆ temer      │\n",
      "│ pequeñito     ┆ pequeñit   │\n",
      "│ amoroso       ┆ amor       │\n",
      "│ cansado       ┆ cans       │\n",
      "│ tedioso       ┆ tedios     │\n",
      "│ tediosísimo   ┆ tediosisim │\n",
      "│ amado         ┆ amad       │\n",
      "│ amando        ┆ amand      │\n",
      "│ amados        ┆ amad       │\n",
      "└───────────────┴────────────┘\n"
     ]
    }
   ],
   "source": [
    "df = pl.DataFrame({'word': [\"temerosamente\", \"pequeñito\", \"amoroso\", \"cansado\", \"tedioso\", \"tediosísimo\", \"amado\", \"amando\", \"amados\"]})\n",
    "print(df.with_columns(b=mp.snowball_stem('word')))"
   ]
  },
  {
   "cell_type": "code",
   "execution_count": 8,
   "metadata": {},
   "outputs": [
    {
     "name": "stdout",
     "output_type": "stream",
     "text": [
      "shape: (2, 1)\n",
      "┌─────────────┐\n",
      "│ a           │\n",
      "│ ---         │\n",
      "│ str         │\n",
      "╞═════════════╡\n",
      "│ bob-merto   │\n",
      "│ billy-merto │\n",
      "└─────────────┘\n"
     ]
    }
   ],
   "source": [
    "import polars as pl\n",
    "import minimal_plugin as mp\n",
    "\n",
    "df = pl.DataFrame({'a': ['bob', 'billy']})\n",
    "print(df.with_columns(mp.add_suffix('a', suffix='-merto')))"
   ]
  },
  {
   "cell_type": "code",
   "execution_count": 4,
   "metadata": {},
   "outputs": [
    {
     "name": "stdout",
     "output_type": "stream",
     "text": [
      "shape: (2, 3)\n",
      "┌───────────┬─────────────────┬───────────────┐\n",
      "│ values    ┆ weights         ┆ weighted_mean │\n",
      "│ ---       ┆ ---             ┆ ---           │\n",
      "│ list[i64] ┆ list[f64]       ┆ f64           │\n",
      "╞═══════════╪═════════════════╪═══════════════╡\n",
      "│ [1, 3, 2] ┆ [0.5, 0.3, 0.2] ┆ 1.8           │\n",
      "│ [5, 7]    ┆ [0.1, 0.9]      ┆ 6.8           │\n",
      "└───────────┴─────────────────┴───────────────┘\n"
     ]
    }
   ],
   "source": [
    "import polars as pl\n",
    "import minimal_plugin as mp\n",
    "\n",
    "df = pl.DataFrame({\n",
    "    'values': [[1, 3, 2], [5, 7]],\n",
    "    'weights': [[.5, .3, .2], [.1, .9]]\n",
    "})\n",
    "print(df.with_columns(weighted_mean = mp.weighted_mean('values', 'weights')))"
   ]
  },
  {
   "cell_type": "code",
   "execution_count": 3,
   "metadata": {},
   "outputs": [
    {
     "name": "stdout",
     "output_type": "stream",
     "text": [
      "shape: (2, 3)\n",
      "┌───────────────┬─────────────────┬─────────────────────────────┐\n",
      "│ values        ┆ weights         ┆ weighted_standard_deviation │\n",
      "│ ---           ┆ ---             ┆ ---                         │\n",
      "│ list[i64]     ┆ list[f64]       ┆ f64                         │\n",
      "╞═══════════════╪═════════════════╪═════════════════════════════╡\n",
      "│ [71, 91, 100] ┆ [1.0, 1.0, 1.0] ┆ 14.843629                   │\n",
      "│ [5, 7]        ┆ [0.1, 0.9]      ┆ 0.848528                    │\n",
      "└───────────────┴─────────────────┴─────────────────────────────┘\n"
     ]
    }
   ],
   "source": [
    "import polars as pl\n",
    "import minimal_plugin as mp\n",
    "\n",
    "df = pl.DataFrame({\n",
    "    'values': [[71, 91, 100], [5, 7]],\n",
    "    'weights': [[1.0, 1.0, 1.0], [.1, .9]]\n",
    "})\n",
    "print(df.with_columns(weighted_standard_deviation = mp.weighted_standard_deviation('values', 'weights')))"
   ]
  },
  {
   "cell_type": "code",
   "execution_count": 1,
   "metadata": {},
   "outputs": [
    {
     "name": "stdout",
     "output_type": "stream",
     "text": [
      "shape: (3, 2)\n",
      "┌─────────────┬─────────────┐\n",
      "│ abc         ┆ abc_shifted │\n",
      "│ ---         ┆ ---         │\n",
      "│ struct[3]   ┆ struct[3]   │\n",
      "╞═════════════╪═════════════╡\n",
      "│ {1,2.0,\"3\"} ┆ {2.0,\"3\",1} │\n",
      "│ {3,3.1,\"7\"} ┆ {3.1,\"7\",3} │\n",
      "│ {8,2.5,\"3\"} ┆ {2.5,\"3\",8} │\n",
      "└─────────────┴─────────────┘\n"
     ]
    }
   ],
   "source": [
    "import polars as pl\n",
    "import minimal_plugin as mp\n",
    "\n",
    "df = pl.DataFrame(\n",
    "    {\n",
    "        \"a\": [1, 3, 8],\n",
    "        \"b\": [2.0, 3.1, 2.5],\n",
    "        \"c\": [\"3\", \"7\", \"3\"],\n",
    "    }\n",
    ").select(abc=pl.struct(\"a\", \"b\", \"c\"))\n",
    "print(df.with_columns(abc_shifted=mp.shift_struct(\"abc\")))"
   ]
  },
  {
   "cell_type": "code",
   "execution_count": null,
   "metadata": {},
   "outputs": [],
   "source": []
  }
 ],
 "metadata": {
  "kernelspec": {
   "display_name": "mapolygon",
   "language": "python",
   "name": "python3"
  },
  "language_info": {
   "codemirror_mode": {
    "name": "ipython",
    "version": 3
   },
   "file_extension": ".py",
   "mimetype": "text/x-python",
   "name": "python",
   "nbconvert_exporter": "python",
   "pygments_lexer": "ipython3",
   "version": "3.10.0"
  }
 },
 "nbformat": 4,
 "nbformat_minor": 2
}
